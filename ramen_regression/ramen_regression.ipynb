{
 "cells": [
  {
   "cell_type": "markdown",
   "metadata": {
    "slideshow": {
     "slide_type": "slide"
    }
   },
   "source": [
    "# TensorFlow で単回帰\n",
    "\n",
    "## ~ 梅田のラーメン屋 データ編 ~\n"
   ]
  },
  {
   "cell_type": "markdown",
   "metadata": {
    "slideshow": {
     "slide_type": "slide"
    }
   },
   "source": [
    "### Note\n",
    "    - `data` ディレクトリに, `ramen_data.csv` を保存しておいてください。\n",
    "  "
   ]
  },
  {
   "cell_type": "markdown",
   "metadata": {
    "slideshow": {
     "slide_type": "slide"
    }
   },
   "source": [
    "### 必要なモジュールを読み込む"
   ]
  },
  {
   "cell_type": "code",
   "execution_count": 1,
   "metadata": {
    "collapsed": false
   },
   "outputs": [],
   "source": [
    "%matplotlib inline\n",
    "import matplotlib.pyplot as plt\n",
    "import numpy as np\n",
    "from pandas import Series, DataFrame\n",
    "import pandas as pd\n",
    "import tensorflow as tf"
   ]
  },
  {
   "cell_type": "markdown",
   "metadata": {
    "slideshow": {
     "slide_type": "slide"
    }
   },
   "source": [
    "### ラーメン屋データを読み込む"
   ]
  },
  {
   "cell_type": "code",
   "execution_count": 2,
   "metadata": {
    "collapsed": false,
    "slideshow": {
     "slide_type": "-"
    }
   },
   "outputs": [
    {
     "data": {
      "image/png": "[encoded data removed]",
      "text/plain": [
       "<matplotlib.figure.Figure at 0x7fed2096ac50>"
      ]
     },
     "metadata": {},
     "output_type": "display_data"
    }
   ],
   "source": [
    "df = pd.read_table(\"data/ramen_data.csv\", delimiter=\",\", index_col=0)\n",
    "\n",
    "\n",
    "plt.plot(df.comment.values, df.point_gokei.values, \".\", label=\"sample\")\n",
    "plt.xlabel(\"#Comments\")\n",
    "plt.ylabel(\"Total Point\")\n",
    "plt.legend()\n",
    "plt.show()\n",
    "\n",
    "# 欠損値を含む行を削除\n",
    "df = df[[\"comment\", \"point_gokei\"]].dropna()\n",
    "\n",
    "comment = df.comment.values / 100. # 学習が効率よく進むよう、pointとデータの幅を近づける (TIPS)\n",
    "point = df.point_gokei.values"
   ]
  },
  {
   "cell_type": "markdown",
   "metadata": {
    "slideshow": {
     "slide_type": "slide"
    }
   },
   "source": [
    "## TensorFlow で単回帰する\n",
    "### 学習したいモデルを記述する\n",
    "  - 今回用いるモデル:\n",
    "          合計ポイント(y) = 係数(a) * コメント数(x) + 切片(b)\n",
    "  - ※このモデルを複雑にすれば, 予測精度を向上できる(かも)"
   ]
  },
  {
   "cell_type": "code",
   "execution_count": 3,
   "metadata": {
    "collapsed": true
   },
   "outputs": [],
   "source": [
    "# 入力変数と出力変数のプレースホルダを生成\n",
    "x = tf.placeholder(tf.float32, shape=(None, ), name=\"INPUT\")\n",
    "y_ = tf.placeholder(tf.float32, shape=(None, ), name=\"OUTPUT\")\n",
    "\n",
    "# モデルパラメータ\n",
    "a = tf.Variable(0., name=\"a\")\n",
    "b = tf.Variable(0., name=\"b\")\n",
    "\n",
    "# モデル式\n",
    "with tf.name_scope(\"linear\"):\n",
    "    y = x * a + b"
   ]
  },
  {
   "cell_type": "markdown",
   "metadata": {
    "slideshow": {
     "slide_type": "slide"
    }
   },
   "source": [
    "### 学習やテストに必要な関数を定義する"
   ]
  },
  {
   "cell_type": "code",
   "execution_count": 4,
   "metadata": {
    "collapsed": true
   },
   "outputs": [],
   "source": [
    "# 訓練手続き\n",
    "with tf.name_scope(\"Train\"):\n",
    "    # コスト関数\n",
    "    with tf.name_scope(\"MSE\"):\n",
    "        cost = tf.reduce_mean(tf.square(y_ - y))\n",
    "        c_summ = tf.scalar_summary(\"cost(mse)\", cost) # for Summary\n",
    "    # 最急降下法\n",
    "    with tf.name_scope(\"Optimizer\"):\n",
    "        train_step = tf.train.GradientDescentOptimizer(0.01).minimize(cost)\n",
    "\n",
    "# 正答率\n",
    "with tf.name_scope(\"Test\"):\n",
    "    with tf.name_scope(\"RMSE\"):\n",
    "        rmse = tf.sqrt(tf.reduce_mean(tf.square(y_ - y)))"
   ]
  },
  {
   "cell_type": "markdown",
   "metadata": {
    "slideshow": {
     "slide_type": "slide"
    }
   },
   "source": [
    "### 実際に学習処理を実行する"
   ]
  },
  {
   "cell_type": "code",
   "execution_count": 5,
   "metadata": {
    "collapsed": false
   },
   "outputs": [
    {
     "name": "stdout",
     "output_type": "stream",
     "text": [
      "Estimated: a=0.15, b=3.22, rmse=0.18\n"
     ]
    }
   ],
   "source": [
    "# セッションを準備\n",
    "sess = tf.Session()\n",
    "\n",
    "# 変数の初期化処理\n",
    "init = tf.initialize_all_variables()\n",
    "sess.run(init)\n",
    "\n",
    "# サマリーデータを出力\n",
    "merged_summ = tf.merge_all_summaries()\n",
    "writer = tf.train.SummaryWriter(\"data/ramen_regression\", graph_def=sess.graph_def)\n",
    "\n",
    "for i in range(1000):\n",
    "    # 最急勾配法でパラメータ更新\n",
    "    _, summ = sess.run([train_step, merged_summ], feed_dict={x: comment, y_: point})\n",
    "    writer.add_summary(summ, i)\n",
    "\n",
    "writer.close()\n",
    "\n",
    "# 学習結果を出力\n",
    "est_rmse, est_a, est_b = sess.run([rmse, a, b], feed_dict={x: comment, y_: point})\n",
    "print \"Estimated: a=%.2f, b=%.2f, rmse=%.2f\" % (est_a, est_b, est_rmse)"
   ]
  },
  {
   "cell_type": "markdown",
   "metadata": {
    "slideshow": {
     "slide_type": "slide"
    }
   },
   "source": [
    "### 推定された回帰直線を描画する"
   ]
  },
  {
   "cell_type": "code",
   "execution_count": 6,
   "metadata": {
    "collapsed": false
   },
   "outputs": [
    {
     "data": {
      "image/png": "[encoded data removed]",
      "text/plain": [
       "<matplotlib.figure.Figure at 0x7fed2087b550>"
      ]
     },
     "metadata": {},
     "output_type": "display_data"
    }
   ],
   "source": [
    "# 回帰直線をプロット\n",
    "line_x = np.linspace(0., 400., 10) / 100.\n",
    "line_y = sess.run(y, feed_dict={x: line_x}) # 学習結果を使い, 新しいxに対する予測値を得る\n",
    "\n",
    "plt.plot(comment, point, \".\", label=\"sample\")\n",
    "plt.plot(line_x, line_y, \"-\", label=\"trained\")\n",
    "plt.xlabel(\"#Comments / 100\")\n",
    "plt.ylabel(\"Total Point\")\n",
    "plt.legend()\n",
    "plt.show()"
   ]
  },
  {
   "cell_type": "markdown",
   "metadata": {
    "slideshow": {
     "slide_type": "slide"
    }
   },
   "source": [
    "### 後片付け"
   ]
  },
  {
   "cell_type": "code",
   "execution_count": 7,
   "metadata": {
    "collapsed": true
   },
   "outputs": [],
   "source": [
    "# セッションを閉じる\n",
    "sess.close()"
   ]
  },
  {
   "cell_type": "markdown",
   "metadata": {
    "slideshow": {
     "slide_type": "skip"
    }
   },
   "source": [
    "### 補足: TensorBoard\n",
    "\n",
    "- 次の行をシェルで実行すると, 学習の進み具合やネットワーク構造を可視化できるWebUIが立ち上がります。\n",
    "\n",
    "    $ tensorboard --logdir=(カレントディレクトリの絶対パス)/data/ramen_regression"
   ]
  }
 ],
 "metadata": {
  "celltoolbar": "Slideshow",
  "kernelspec": {
   "display_name": "Python 2",
   "language": "python",
   "name": "python2"
  },
  "language_info": {
   "codemirror_mode": {
    "name": "ipython",
    "version": 2
   },
   "file_extension": ".py",
   "mimetype": "text/x-python",
   "name": "python",
   "nbconvert_exporter": "python",
   "pygments_lexer": "ipython2",
   "version": "2.7.6"
  }
 },
 "nbformat": 4,
 "nbformat_minor": 0
}
